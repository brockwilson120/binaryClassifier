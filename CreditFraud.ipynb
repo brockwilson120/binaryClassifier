{
  "nbformat": 4,
  "nbformat_minor": 0,
  "metadata": {
    "colab": {
      "name": "CreditFraud.ipynb",
      "provenance": [],
      "collapsed_sections": [],
      "authorship_tag": "ABX9TyNRGi/OLaR8mzwEv3qV2CRh",
      "include_colab_link": true
    },
    "kernelspec": {
      "name": "python3",
      "display_name": "Python 3"
    },
    "language_info": {
      "name": "python"
    }
  },
  "cells": [
    {
      "cell_type": "markdown",
      "metadata": {
        "id": "view-in-github",
        "colab_type": "text"
      },
      "source": [
        "<a href=\"https://colab.research.google.com/github/brockwilson120/simonSaysQLearning/blob/main/CreditFraud.ipynb\" target=\"_parent\"><img src=\"https://colab.research.google.com/assets/colab-badge.svg\" alt=\"Open In Colab\"/></a>"
      ]
    },
    {
      "cell_type": "code",
      "execution_count": null,
      "metadata": {
        "id": "sHW7_JFYO_MK",
        "cellView": "form"
      },
      "outputs": [],
      "source": [
        "#@title Packages\n",
        "!pip install tensorflow\n",
        "!pip install numpy\n",
        "!pip install pandas\n",
        "!pip install sklearn.model_selection\n",
        "!pip install matplotlib\n",
        "\n",
        "import pandas as pd\n",
        "import tensorflow as tf\n",
        "import numpy as np\n",
        "import matplotlib.pyplot as plt\n",
        "from sklearn.model_selection import train_test_split\n",
        "import os"
      ]
    },
    {
      "cell_type": "code",
      "source": [
        "from google.colab import drive\n",
        "drive.mount('/content/gdrive')"
      ],
      "metadata": {
        "colab": {
          "base_uri": "https://localhost:8080/"
        },
        "id": "73NgImRAPcKJ",
        "outputId": "37fe427a-b4f2-478d-aa56-4dbc28d4d0c8"
      },
      "execution_count": null,
      "outputs": [
        {
          "output_type": "stream",
          "name": "stdout",
          "text": [
            "Mounted at /content/gdrive\n"
          ]
        }
      ]
    },
    {
      "cell_type": "code",
      "source": [
        "df = pd.read_csv('/content/gdrive/MyDrive/creditcard.csv')"
      ],
      "metadata": {
        "id": "Gv8wCVn3Q0sM"
      },
      "execution_count": null,
      "outputs": []
    },
    {
      "cell_type": "code",
      "source": [
        "print(len(np.where(df['Class'] == 1)[0]),\n",
        "len(np.where(df['Class'] == 0)[0]))"
      ],
      "metadata": {
        "colab": {
          "base_uri": "https://localhost:8080/"
        },
        "id": "pCfljTvikudk",
        "outputId": "46884473-4d2d-4f24-da67-da3ea042c8a6"
      },
      "execution_count": null,
      "outputs": [
        {
          "output_type": "stream",
          "name": "stdout",
          "text": [
            "492 284315\n"
          ]
        }
      ]
    },
    {
      "cell_type": "code",
      "source": [
        "argX =  df.drop(columns=['Class', 'Time'])\n",
        "argY = df['Class']"
      ],
      "metadata": {
        "id": "V8qyQWDewEDN"
      },
      "execution_count": null,
      "outputs": []
    },
    {
      "cell_type": "code",
      "source": [
        "mean = argX.mean(axis=0) "
      ],
      "metadata": {
        "id": "WPf3uPRBKr8G"
      },
      "execution_count": null,
      "outputs": []
    },
    {
      "cell_type": "code",
      "source": [
        "argX -= mean"
      ],
      "metadata": {
        "id": "qUlkA3kik-WM"
      },
      "execution_count": null,
      "outputs": []
    },
    {
      "cell_type": "code",
      "source": [
        "std = argX.std(axis=0)"
      ],
      "metadata": {
        "id": "I9st5j1AKyhi"
      },
      "execution_count": null,
      "outputs": []
    },
    {
      "cell_type": "code",
      "source": [
        "argX /= std"
      ],
      "metadata": {
        "id": "uOXocptnlIc-"
      },
      "execution_count": null,
      "outputs": []
    },
    {
      "cell_type": "code",
      "source": [
        "xTrain, xTest, yTrain, yTest = train_test_split(argX, argY, test_size= .4)"
      ],
      "metadata": {
        "id": "Zx10wHQDK0oT"
      },
      "execution_count": null,
      "outputs": []
    },
    {
      "cell_type": "code",
      "source": [
        "print(xTrain.shape, yTrain.shape)"
      ],
      "metadata": {
        "colab": {
          "base_uri": "https://localhost:8080/"
        },
        "id": "GZkKvglRlOwV",
        "outputId": "72e0bd3a-41db-4e6f-f69a-b64cfe1f93e9"
      },
      "execution_count": null,
      "outputs": [
        {
          "output_type": "stream",
          "name": "stdout",
          "text": [
            "(170884, 29) (170884,)\n"
          ]
        }
      ]
    },
    {
      "cell_type": "code",
      "source": [
        "print(f'Ratio of positive to negative is {len(np.where(yTrain == 1)[0])}:{len(np.where(yTrain == 0)[0])}')"
      ],
      "metadata": {
        "colab": {
          "base_uri": "https://localhost:8080/"
        },
        "id": "KCjT_In56eTj",
        "outputId": "dff9fcb3-d268-4a58-f64f-c59acdcb1f93"
      },
      "execution_count": null,
      "outputs": [
        {
          "output_type": "stream",
          "name": "stdout",
          "text": [
            "Ratio of positive to negative is 319:170565\n"
          ]
        }
      ]
    },
    {
      "cell_type": "code",
      "source": [
        "weights_for_0 = 1 / len(np.where(yTrain == 0)[0])\n",
        "weights_for_1 = 1 / len(np.where(yTrain == 1)[0])"
      ],
      "metadata": {
        "id": "k27yemS99ZxZ"
      },
      "execution_count": null,
      "outputs": []
    },
    {
      "cell_type": "code",
      "source": [
        "print(weights_for_0,weights_for_1)"
      ],
      "metadata": {
        "colab": {
          "base_uri": "https://localhost:8080/"
        },
        "id": "D8hWQzEc9tL7",
        "outputId": "814ce26f-63c4-4b47-e9aa-59afb0a166db"
      },
      "execution_count": null,
      "outputs": [
        {
          "output_type": "stream",
          "name": "stdout",
          "text": [
            "5.862867528508194e-06 0.003134796238244514\n"
          ]
        }
      ]
    },
    {
      "cell_type": "code",
      "source": [
        "model = tf.keras.Sequential()\n",
        "model.add(tf.keras.layers.Dense(8, input_shape=(29,), activation='relu'))\n",
        "model.add(tf.keras.layers.Dense(4, activation='relu'))\n",
        "model.add(tf.keras.layers.Dense(1, activation='sigmoid'))\n",
        "model.summary()"
      ],
      "metadata": {
        "colab": {
          "base_uri": "https://localhost:8080/"
        },
        "id": "OzhiEGcwRdZH",
        "outputId": "ecd81136-40c3-42c1-e6cd-05f7896945f8"
      },
      "execution_count": null,
      "outputs": [
        {
          "output_type": "stream",
          "name": "stdout",
          "text": [
            "Model: \"sequential_11\"\n",
            "_________________________________________________________________\n",
            " Layer (type)                Output Shape              Param #   \n",
            "=================================================================\n",
            " dense_33 (Dense)            (None, 8)                 240       \n",
            "                                                                 \n",
            " dense_34 (Dense)            (None, 4)                 36        \n",
            "                                                                 \n",
            " dense_35 (Dense)            (None, 1)                 5         \n",
            "                                                                 \n",
            "=================================================================\n",
            "Total params: 281\n",
            "Trainable params: 281\n",
            "Non-trainable params: 0\n",
            "_________________________________________________________________\n"
          ]
        }
      ]
    },
    {
      "cell_type": "code",
      "source": [
        "metrics = [tf.keras.metrics.FalseNegatives(name='FN'),\n",
        "           tf.keras.metrics.FalsePositives(name='FP'),\n",
        "           tf.keras.metrics.TrueNegatives(name='TN'),\n",
        "           tf.keras.metrics.TruePositives(name='TP'),\n",
        "           tf.keras.metrics.Precision(name='Precision'),\n",
        "           tf.keras.metrics.Recall(name='Recall')]"
      ],
      "metadata": {
        "id": "vEdY94Kp99n1"
      },
      "execution_count": null,
      "outputs": []
    },
    {
      "cell_type": "code",
      "source": [
        "model.compile(optimizer='adam', loss='binary_crossentropy', metrics=metrics)"
      ],
      "metadata": {
        "id": "bqnQt05ULZAC"
      },
      "execution_count": null,
      "outputs": []
    },
    {
      "cell_type": "code",
      "source": [
        "class_weight={0: weights_for_0, 1: weights_for_1}"
      ],
      "metadata": {
        "id": "ZxhqDJf6-xsA"
      },
      "execution_count": null,
      "outputs": []
    },
    {
      "cell_type": "code",
      "source": [
        "os.makedirs('saved_model')"
      ],
      "metadata": {
        "id": "o_mcnynvSdOH"
      },
      "execution_count": null,
      "outputs": []
    },
    {
      "cell_type": "code",
      "source": [
        "#@title Custom keras callback \n",
        "class customCallback(tf.keras.callbacks.Callback):\n",
        "\t\tdef __init__(self):\n",
        "\t\t\tself.logList = []\n",
        "\n",
        "\t\tdef on_train_end(self, logs=None):\n",
        "\t\t\tgraph(new=self.logList)\n",
        "\n",
        "\t\tdef on_epoch_end(self, epoch, logs=None):\n",
        "\t\t\t# print(logs)\n",
        "\t\t\tself.logList.append([logs['Recall'], logs['Precision'], logs['val_Recall'], logs['val_Precision']])\n"
      ],
      "metadata": {
        "id": "8A1mfU99TJhM",
        "cellView": "form"
      },
      "execution_count": null,
      "outputs": []
    },
    {
      "cell_type": "code",
      "source": [
        "#@title Graphing Function\n",
        "newList = []\n",
        "\n",
        "def graph(new=[], old=[]):\n",
        "\n",
        "  if old: \n",
        "    fig, axs = plt.subplots(nrows=1, ncols=2)\n",
        "\n",
        "    ax = axs[0]\n",
        "    ax.bar(0, height=round(old[0]*100, 2), width=.2, label='Untrained accuracy')\n",
        "    ax.bar(.25, height=round(old[2]*100, 2), width=.2, label='Trained accuracy')\n",
        "    ax.set_xticks([0,.25])\n",
        "    ax.set_xticklabels(['Untrained', 'Trained'])\n",
        "    ax.legend(loc='upper left')\n",
        "    ax.set_title('Accuracy')\n",
        "\n",
        "    for i, v in enumerate([old[0], old[2]]):\n",
        "      ax.text((.25 * i), round(v*100, 2) + 1, str(round(v*100, 2)) + '%', ha='center', color='black', fontweight='bold')\n",
        "\n",
        "\n",
        "    ax2 = axs[1]\n",
        "    \n",
        "    ax2.bar(0, height=old[1], width=.2, label='Untrained loss')\n",
        "    ax2.bar(.25, height=old[3], width=.2, label='Trained loss')\n",
        "    ax2.set_xticks([0,.25])\n",
        "    ax2.set_xticklabels(['Untrained', 'Trained'])\n",
        "    ax2.legend(loc='upper right')\n",
        "    ax2.set_title('Loss')\n",
        "    ax2.set_yscale('log')\n",
        "\n",
        "    for i, v in enumerate([old[1], old[3]]):\n",
        "      ax2.text((.25 * i), v + .001 + -1 * ((i - 1) * 500), str(round(v, 4)), color='black', ha='center', fontweight='bold')\n",
        "\n",
        "    fig.suptitle('Untrained vs Trained', fontweight='bold')\n",
        "  elif new:\n",
        "    fig, ax = plt.subplots(nrows=1, ncols=2)\t\n",
        "    # newList.append(new)\n",
        "\n",
        "    x = []\n",
        "    yAccuracy = []\n",
        "    yLoss = []\n",
        "    yValLoss = []\n",
        "    yValAccuracy = []\n",
        "\n",
        "\n",
        "    for a, b in enumerate(new):\n",
        "      x.append(a)\n",
        "      yLoss.append(b[0])\n",
        "      yAccuracy.append(b[1])\n",
        "      yValLoss.append(b[2])\n",
        "      yValAccuracy.append(b[3])\n",
        "\n",
        "\n",
        "    ax[0].plot(x, yAccuracy, label='Precision')\n",
        "    ax[0].plot(x, yValAccuracy, '--', label='Validation Precision')\n",
        "    ax[1].plot(x, yLoss, label='Recall')\n",
        "    ax[1].plot(x, yValLoss, '--', label='Validation Recall')\n",
        "\n",
        "    ax[0].set_title('Precision')\n",
        "    ax[0].legend(bbox_to_anchor =(-.1, 0))\n",
        "    ax[0].grid()\n",
        "    ax[1].set_title('Recall')\n",
        "    ax[1].legend(bbox_to_anchor =(1.85, 0))\n",
        "    ax[1].grid()\n",
        "\n",
        "    fig.suptitle('Each Epoch', fontweight='bold')\n",
        "\n",
        "  plt.show()"
      ],
      "metadata": {
        "cellView": "form",
        "id": "PfC3D0JTTYcO"
      },
      "execution_count": null,
      "outputs": []
    },
    {
      "cell_type": "code",
      "source": [
        "checkCall = [customCallback()]\n",
        "\n",
        "model.fit(xTrain, yTrain, validation_split= .2, batch_size=2048, epochs=20, callbacks=[checkCall], class_weight=class_weight, verbose=2)"
      ],
      "metadata": {
        "id": "WApjPBmwTp7j"
      },
      "execution_count": null,
      "outputs": []
    },
    {
      "cell_type": "code",
      "source": [
        "model.save('saved_model/my_model')"
      ],
      "metadata": {
        "colab": {
          "base_uri": "https://localhost:8080/"
        },
        "id": "9KJeyUxqXCjY",
        "outputId": "edca3ab8-e6ce-4b7d-de3a-cf50593f95cc"
      },
      "execution_count": null,
      "outputs": [
        {
          "output_type": "stream",
          "name": "stdout",
          "text": [
            "INFO:tensorflow:Assets written to: saved_model/my_model/assets\n"
          ]
        }
      ]
    },
    {
      "cell_type": "code",
      "source": [
        "tf.keras.models.load_model('saved_model/my_model')"
      ],
      "metadata": {
        "id": "0PGTJQOwpGUq"
      },
      "execution_count": null,
      "outputs": []
    },
    {
      "cell_type": "code",
      "source": [
        "prediction = model.predict(xTest)"
      ],
      "metadata": {
        "id": "whgsOy5vXp0j"
      },
      "execution_count": null,
      "outputs": []
    },
    {
      "cell_type": "markdown",
      "source": [
        "# Input test data the model has never seen before to get a rough accuracy rating"
      ],
      "metadata": {
        "id": "_ARNcniqvOYR"
      }
    },
    {
      "cell_type": "code",
      "source": [
        "#@title Default title text\n",
        "predDF = pd.DataFrame(zip(prediction, yTest))\n",
        "predDF.columns = ['Prediction', 'Quality']\n",
        "plt.plot([1,1], [0,110000], '--')\n",
        "plt.plot([0,0], [0,110000], '--')\n",
        "plt.scatter(predDF['Prediction'], np.arange(len(predDF['Prediction'])), s=np.pi, alpha=.4)\n",
        "plt.title('Predictions')\n"
      ],
      "metadata": {
        "colab": {
          "base_uri": "https://localhost:8080/",
          "height": 300
        },
        "cellView": "code",
        "id": "LjXuIrNjqFGv",
        "outputId": "5b0bbaf9-792c-4648-ea24-2347e2e5e5a4"
      },
      "execution_count": 147,
      "outputs": [
        {
          "output_type": "execute_result",
          "data": {
            "text/plain": [
              "Text(0.5, 1.0, 'Predictions')"
            ]
          },
          "metadata": {},
          "execution_count": 147
        },
        {
          "output_type": "display_data",
          "data": {
            "image/png": "[encoded data removed]",
            "text/plain": [
              "<Figure size 432x288 with 1 Axes>"
            ]
          },
          "metadata": {
            "needs_background": "light"
          }
        }
      ]
    },
    {
      "cell_type": "code",
      "source": [
        "predDF"
      ],
      "metadata": {
        "colab": {
          "base_uri": "https://localhost:8080/",
          "height": 423
        },
        "id": "zv0Zgdq-faaT",
        "outputId": "2d2c58c5-4a71-4a58-efc8-de0690adab84"
      },
      "execution_count": null,
      "outputs": [
        {
          "output_type": "execute_result",
          "data": {
            "text/html": [
              "\n",
              "  <div id=\"df-c000fb8c-f41c-4229-837d-2c42919ee137\">\n",
              "    <div class=\"colab-df-container\">\n",
              "      <div>\n",
              "<style scoped>\n",
              "    .dataframe tbody tr th:only-of-type {\n",
              "        vertical-align: middle;\n",
              "    }\n",
              "\n",
              "    .dataframe tbody tr th {\n",
              "        vertical-align: top;\n",
              "    }\n",
              "\n",
              "    .dataframe thead th {\n",
              "        text-align: right;\n",
              "    }\n",
              "</style>\n",
              "<table border=\"1\" class=\"dataframe\">\n",
              "  <thead>\n",
              "    <tr style=\"text-align: right;\">\n",
              "      <th></th>\n",
              "      <th>Prediction</th>\n",
              "      <th>Quality</th>\n",
              "    </tr>\n",
              "  </thead>\n",
              "  <tbody>\n",
              "    <tr>\n",
              "      <th>0</th>\n",
              "      <td>[0.009284645]</td>\n",
              "      <td>0</td>\n",
              "    </tr>\n",
              "    <tr>\n",
              "      <th>1</th>\n",
              "      <td>[0.10207382]</td>\n",
              "      <td>0</td>\n",
              "    </tr>\n",
              "    <tr>\n",
              "      <th>2</th>\n",
              "      <td>[0.08230367]</td>\n",
              "      <td>0</td>\n",
              "    </tr>\n",
              "    <tr>\n",
              "      <th>3</th>\n",
              "      <td>[0.002710849]</td>\n",
              "      <td>0</td>\n",
              "    </tr>\n",
              "    <tr>\n",
              "      <th>4</th>\n",
              "      <td>[0.27003634]</td>\n",
              "      <td>0</td>\n",
              "    </tr>\n",
              "    <tr>\n",
              "      <th>...</th>\n",
              "      <td>...</td>\n",
              "      <td>...</td>\n",
              "    </tr>\n",
              "    <tr>\n",
              "      <th>113918</th>\n",
              "      <td>[0.06543216]</td>\n",
              "      <td>0</td>\n",
              "    </tr>\n",
              "    <tr>\n",
              "      <th>113919</th>\n",
              "      <td>[0.07340613]</td>\n",
              "      <td>0</td>\n",
              "    </tr>\n",
              "    <tr>\n",
              "      <th>113920</th>\n",
              "      <td>[0.008853763]</td>\n",
              "      <td>0</td>\n",
              "    </tr>\n",
              "    <tr>\n",
              "      <th>113921</th>\n",
              "      <td>[0.15734589]</td>\n",
              "      <td>0</td>\n",
              "    </tr>\n",
              "    <tr>\n",
              "      <th>113922</th>\n",
              "      <td>[0.073788464]</td>\n",
              "      <td>0</td>\n",
              "    </tr>\n",
              "  </tbody>\n",
              "</table>\n",
              "<p>113923 rows × 2 columns</p>\n",
              "</div>\n",
              "      <button class=\"colab-df-convert\" onclick=\"convertToInteractive('df-c000fb8c-f41c-4229-837d-2c42919ee137')\"\n",
              "              title=\"Convert this dataframe to an interactive table.\"\n",
              "              style=\"display:none;\">\n",
              "        \n",
              "  <svg xmlns=\"http://www.w3.org/2000/svg\" height=\"24px\"viewBox=\"0 0 24 24\"\n",
              "       width=\"24px\">\n",
              "    <path d=\"M0 0h24v24H0V0z\" fill=\"none\"/>\n",
              "    <path d=\"M18.56 5.44l.94 2.06.94-2.06 2.06-.94-2.06-.94-.94-2.06-.94 2.06-2.06.94zm-11 1L8.5 8.5l.94-2.06 2.06-.94-2.06-.94L8.5 2.5l-.94 2.06-2.06.94zm10 10l.94 2.06.94-2.06 2.06-.94-2.06-.94-.94-2.06-.94 2.06-2.06.94z\"/><path d=\"M17.41 7.96l-1.37-1.37c-.4-.4-.92-.59-1.43-.59-.52 0-1.04.2-1.43.59L10.3 9.45l-7.72 7.72c-.78.78-.78 2.05 0 2.83L4 21.41c.39.39.9.59 1.41.59.51 0 1.02-.2 1.41-.59l7.78-7.78 2.81-2.81c.8-.78.8-2.07 0-2.86zM5.41 20L4 18.59l7.72-7.72 1.47 1.35L5.41 20z\"/>\n",
              "  </svg>\n",
              "      </button>\n",
              "      \n",
              "  <style>\n",
              "    .colab-df-container {\n",
              "      display:flex;\n",
              "      flex-wrap:wrap;\n",
              "      gap: 12px;\n",
              "    }\n",
              "\n",
              "    .colab-df-convert {\n",
              "      background-color: #E8F0FE;\n",
              "      border: none;\n",
              "      border-radius: 50%;\n",
              "      cursor: pointer;\n",
              "      display: none;\n",
              "      fill: #1967D2;\n",
              "      height: 32px;\n",
              "      padding: 0 0 0 0;\n",
              "      width: 32px;\n",
              "    }\n",
              "\n",
              "    .colab-df-convert:hover {\n",
              "      background-color: #E2EBFA;\n",
              "      box-shadow: 0px 1px 2px rgba(60, 64, 67, 0.3), 0px 1px 3px 1px rgba(60, 64, 67, 0.15);\n",
              "      fill: #174EA6;\n",
              "    }\n",
              "\n",
              "    [theme=dark] .colab-df-convert {\n",
              "      background-color: #3B4455;\n",
              "      fill: #D2E3FC;\n",
              "    }\n",
              "\n",
              "    [theme=dark] .colab-df-convert:hover {\n",
              "      background-color: #434B5C;\n",
              "      box-shadow: 0px 1px 3px 1px rgba(0, 0, 0, 0.15);\n",
              "      filter: drop-shadow(0px 1px 2px rgba(0, 0, 0, 0.3));\n",
              "      fill: #FFFFFF;\n",
              "    }\n",
              "  </style>\n",
              "\n",
              "      <script>\n",
              "        const buttonEl =\n",
              "          document.querySelector('#df-c000fb8c-f41c-4229-837d-2c42919ee137 button.colab-df-convert');\n",
              "        buttonEl.style.display =\n",
              "          google.colab.kernel.accessAllowed ? 'block' : 'none';\n",
              "\n",
              "        async function convertToInteractive(key) {\n",
              "          const element = document.querySelector('#df-c000fb8c-f41c-4229-837d-2c42919ee137');\n",
              "          const dataTable =\n",
              "            await google.colab.kernel.invokeFunction('convertToInteractive',\n",
              "                                                     [key], {});\n",
              "          if (!dataTable) return;\n",
              "\n",
              "          const docLinkHtml = 'Like what you see? Visit the ' +\n",
              "            '<a target=\"_blank\" href=https://colab.research.google.com/notebooks/data_table.ipynb>data table notebook</a>'\n",
              "            + ' to learn more about interactive tables.';\n",
              "          element.innerHTML = '';\n",
              "          dataTable['output_type'] = 'display_data';\n",
              "          await google.colab.output.renderOutput(dataTable, element);\n",
              "          const docLink = document.createElement('div');\n",
              "          docLink.innerHTML = docLinkHtml;\n",
              "          element.appendChild(docLink);\n",
              "        }\n",
              "      </script>\n",
              "    </div>\n",
              "  </div>\n",
              "  "
            ],
            "text/plain": [
              "           Prediction  Quality\n",
              "0       [0.009284645]        0\n",
              "1        [0.10207382]        0\n",
              "2        [0.08230367]        0\n",
              "3       [0.002710849]        0\n",
              "4        [0.27003634]        0\n",
              "...               ...      ...\n",
              "113918   [0.06543216]        0\n",
              "113919   [0.07340613]        0\n",
              "113920  [0.008853763]        0\n",
              "113921   [0.15734589]        0\n",
              "113922  [0.073788464]        0\n",
              "\n",
              "[113923 rows x 2 columns]"
            ]
          },
          "metadata": {},
          "execution_count": 127
        }
      ]
    },
    {
      "cell_type": "code",
      "source": [
        "from sklearn.metrics import accuracy_score, precision_score, recall_score, f1_score"
      ],
      "metadata": {
        "id": "9MFTqIlYomNY"
      },
      "execution_count": null,
      "outputs": []
    },
    {
      "cell_type": "code",
      "source": [
        "acc = accuracy_score(yTest, prediction.round())\n",
        "print(acc)"
      ],
      "metadata": {
        "colab": {
          "base_uri": "https://localhost:8080/"
        },
        "id": "Riuk5PJtoxaj",
        "outputId": "547af12c-ae7c-4dc6-92fd-96018cc6a9d9"
      },
      "execution_count": null,
      "outputs": [
        {
          "output_type": "stream",
          "name": "stdout",
          "text": [
            "0.9797758134880578\n"
          ]
        }
      ]
    },
    {
      "cell_type": "code",
      "source": [
        "print('Fraud instances: ', len(np.where(yTest == 1)[0]), '\\nNonFraud: ', len(np.where(yTest == 0)[0]))\n"
      ],
      "metadata": {
        "colab": {
          "base_uri": "https://localhost:8080/"
        },
        "id": "veYtngyYwYWs",
        "outputId": "71e3157a-4ce4-4e98-98a7-d4297050b871"
      },
      "execution_count": null,
      "outputs": [
        {
          "output_type": "stream",
          "name": "stdout",
          "text": [
            "Fraud instances:  173 \n",
            "NonFraud:  113750\n"
          ]
        }
      ]
    },
    {
      "cell_type": "markdown",
      "source": [
        "# Due to the extreme difference of the ratios, this isnt an accurate accuracy"
      ],
      "metadata": {
        "id": "jWThRFw1wEYi"
      }
    },
    {
      "cell_type": "code",
      "source": [
        "accList1 = []\n",
        "accList2 = []\n",
        "for x in np.where(yTest == 1):\n",
        "  accList1.append(x)\n",
        "  accList2.append(prediction[x])"
      ],
      "metadata": {
        "id": "L6475InrqKES"
      },
      "execution_count": null,
      "outputs": []
    },
    {
      "cell_type": "markdown",
      "source": [
        "# Measuring accuracy of only fraud instances"
      ],
      "metadata": {
        "id": "m8g-250sxArz"
      }
    },
    {
      "cell_type": "code",
      "source": [
        "l1 = np.array(accList1)\n",
        "l2 = np.array(accList2)\n",
        "# accuracy_score(l1[0], l2[0])\n",
        "zount=0\n",
        "for x in l2[0].round():\n",
        "  if x == 1: zount += 1"
      ],
      "metadata": {
        "id": "f210U9WAsY2I"
      },
      "execution_count": null,
      "outputs": []
    },
    {
      "cell_type": "markdown",
      "source": [
        "Roughly 90% accuracy"
      ],
      "metadata": {
        "id": "X9nPR4JhuuEL"
      }
    },
    {
      "cell_type": "code",
      "source": [
        "zount / len(l2[0])"
      ],
      "metadata": {
        "colab": {
          "base_uri": "https://localhost:8080/"
        },
        "id": "mrV04ZHwujL_",
        "outputId": "b7fbc21d-8f66-41d4-dac8-87749d924ec1"
      },
      "execution_count": null,
      "outputs": [
        {
          "output_type": "execute_result",
          "data": {
            "text/plain": [
              "0.9017341040462428"
            ]
          },
          "metadata": {},
          "execution_count": 140
        }
      ]
    }
  ]
}